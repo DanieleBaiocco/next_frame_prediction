{
  "nbformat": 4,
  "nbformat_minor": 0,
  "metadata": {
    "colab": {
      "provenance": [],
      "gpuType": "T4"
    },
    "kernelspec": {
      "name": "python3",
      "display_name": "Python 3"
    },
    "language_info": {
      "name": "python"
    },
    "accelerator": "GPU",
    "widgets": {
      "application/vnd.jupyter.widget-state+json": {
        "006871ad09d14a559361ae2727ee4dea": {
          "model_module": "@jupyter-widgets/controls",
          "model_name": "HBoxModel",
          "model_module_version": "1.5.0",
          "state": {
            "_dom_classes": [],
            "_model_module": "@jupyter-widgets/controls",
            "_model_module_version": "1.5.0",
            "_model_name": "HBoxModel",
            "_view_count": null,
            "_view_module": "@jupyter-widgets/controls",
            "_view_module_version": "1.5.0",
            "_view_name": "HBoxView",
            "box_style": "",
            "children": [
              "IPY_MODEL_a2cfd9421e5b498aabd9da22d4368d59",
              "IPY_MODEL_cbd746434f76437d89981c6c0b081154"
            ],
            "layout": "IPY_MODEL_84783d9a95b24cc98a3ba26235c227f3"
          }
        },
        "a2cfd9421e5b498aabd9da22d4368d59": {
          "model_module": "@jupyter-widgets/controls",
          "model_name": "ImageModel",
          "model_module_version": "1.5.0",
          "state": {
            "_dom_classes": [],
            "_model_module": "@jupyter-widgets/controls",
            "_model_module_version": "1.5.0",
            "_model_name": "ImageModel",
            "_view_count": null,
            "_view_module": "@jupyter-widgets/controls",
            "_view_module_version": "1.5.0",
            "_view_name": "ImageView",
            "format": "png",
            "height": "",
            "layout": "IPY_MODEL_29b4f2d98a064774a2d1287a834f2818",
            "width": ""
          }
        },
        "cbd746434f76437d89981c6c0b081154": {
          "model_module": "@jupyter-widgets/controls",
          "model_name": "ImageModel",
          "model_module_version": "1.5.0",
          "state": {
            "_dom_classes": [],
            "_model_module": "@jupyter-widgets/controls",
            "_model_module_version": "1.5.0",
            "_model_name": "ImageModel",
            "_view_count": null,
            "_view_module": "@jupyter-widgets/controls",
            "_view_module_version": "1.5.0",
            "_view_name": "ImageView",
            "format": "png",
            "height": "",
            "layout": "IPY_MODEL_e50c7feedf4d4c698edbdaa95c519cda",
            "width": ""
          }
        },
        "84783d9a95b24cc98a3ba26235c227f3": {
          "model_module": "@jupyter-widgets/base",
          "model_name": "LayoutModel",
          "model_module_version": "1.2.0",
          "state": {
            "_model_module": "@jupyter-widgets/base",
            "_model_module_version": "1.2.0",
            "_model_name": "LayoutModel",
            "_view_count": null,
            "_view_module": "@jupyter-widgets/base",
            "_view_module_version": "1.2.0",
            "_view_name": "LayoutView",
            "align_content": null,
            "align_items": null,
            "align_self": null,
            "border": null,
            "bottom": null,
            "display": null,
            "flex": null,
            "flex_flow": null,
            "grid_area": null,
            "grid_auto_columns": null,
            "grid_auto_flow": null,
            "grid_auto_rows": null,
            "grid_column": null,
            "grid_gap": null,
            "grid_row": null,
            "grid_template_areas": null,
            "grid_template_columns": null,
            "grid_template_rows": null,
            "height": null,
            "justify_content": null,
            "justify_items": null,
            "left": null,
            "margin": null,
            "max_height": null,
            "max_width": null,
            "min_height": null,
            "min_width": null,
            "object_fit": null,
            "object_position": null,
            "order": null,
            "overflow": null,
            "overflow_x": null,
            "overflow_y": null,
            "padding": null,
            "right": null,
            "top": null,
            "visibility": null,
            "width": null
          }
        },
        "29b4f2d98a064774a2d1287a834f2818": {
          "model_module": "@jupyter-widgets/base",
          "model_name": "LayoutModel",
          "model_module_version": "1.2.0",
          "state": {
            "_model_module": "@jupyter-widgets/base",
            "_model_module_version": "1.2.0",
            "_model_name": "LayoutModel",
            "_view_count": null,
            "_view_module": "@jupyter-widgets/base",
            "_view_module_version": "1.2.0",
            "_view_name": "LayoutView",
            "align_content": null,
            "align_items": null,
            "align_self": null,
            "border": null,
            "bottom": null,
            "display": null,
            "flex": null,
            "flex_flow": null,
            "grid_area": null,
            "grid_auto_columns": null,
            "grid_auto_flow": null,
            "grid_auto_rows": null,
            "grid_column": null,
            "grid_gap": null,
            "grid_row": null,
            "grid_template_areas": null,
            "grid_template_columns": null,
            "grid_template_rows": null,
            "height": null,
            "justify_content": null,
            "justify_items": null,
            "left": null,
            "margin": null,
            "max_height": null,
            "max_width": null,
            "min_height": null,
            "min_width": null,
            "object_fit": null,
            "object_position": null,
            "order": null,
            "overflow": null,
            "overflow_x": null,
            "overflow_y": null,
            "padding": null,
            "right": null,
            "top": null,
            "visibility": null,
            "width": null
          }
        },
        "e50c7feedf4d4c698edbdaa95c519cda": {
          "model_module": "@jupyter-widgets/base",
          "model_name": "LayoutModel",
          "model_module_version": "1.2.0",
          "state": {
            "_model_module": "@jupyter-widgets/base",
            "_model_module_version": "1.2.0",
            "_model_name": "LayoutModel",
            "_view_count": null,
            "_view_module": "@jupyter-widgets/base",
            "_view_module_version": "1.2.0",
            "_view_name": "LayoutView",
            "align_content": null,
            "align_items": null,
            "align_self": null,
            "border": null,
            "bottom": null,
            "display": null,
            "flex": null,
            "flex_flow": null,
            "grid_area": null,
            "grid_auto_columns": null,
            "grid_auto_flow": null,
            "grid_auto_rows": null,
            "grid_column": null,
            "grid_gap": null,
            "grid_row": null,
            "grid_template_areas": null,
            "grid_template_columns": null,
            "grid_template_rows": null,
            "height": null,
            "justify_content": null,
            "justify_items": null,
            "left": null,
            "margin": null,
            "max_height": null,
            "max_width": null,
            "min_height": null,
            "min_width": null,
            "object_fit": null,
            "object_position": null,
            "order": null,
            "overflow": null,
            "overflow_x": null,
            "overflow_y": null,
            "padding": null,
            "right": null,
            "top": null,
            "visibility": null,
            "width": null
          }
        },
        "168be7304c00464d95c76543bd141886": {
          "model_module": "@jupyter-widgets/controls",
          "model_name": "HBoxModel",
          "model_module_version": "1.5.0",
          "state": {
            "_dom_classes": [],
            "_model_module": "@jupyter-widgets/controls",
            "_model_module_version": "1.5.0",
            "_model_name": "HBoxModel",
            "_view_count": null,
            "_view_module": "@jupyter-widgets/controls",
            "_view_module_version": "1.5.0",
            "_view_name": "HBoxView",
            "box_style": "",
            "children": [
              "IPY_MODEL_509a082d9014427998eef0a507082304",
              "IPY_MODEL_133b78967e2549de830eb0baf7cc25c4"
            ],
            "layout": "IPY_MODEL_e38dc9060d4f44bb8cde0f96cae9a2ab"
          }
        },
        "509a082d9014427998eef0a507082304": {
          "model_module": "@jupyter-widgets/controls",
          "model_name": "ImageModel",
          "model_module_version": "1.5.0",
          "state": {
            "_dom_classes": [],
            "_model_module": "@jupyter-widgets/controls",
            "_model_module_version": "1.5.0",
            "_model_name": "ImageModel",
            "_view_count": null,
            "_view_module": "@jupyter-widgets/controls",
            "_view_module_version": "1.5.0",
            "_view_name": "ImageView",
            "format": "png",
            "height": "",
            "layout": "IPY_MODEL_c4da4f516f2a40ce90c8592b229eca17",
            "width": ""
          }
        },
        "133b78967e2549de830eb0baf7cc25c4": {
          "model_module": "@jupyter-widgets/controls",
          "model_name": "ImageModel",
          "model_module_version": "1.5.0",
          "state": {
            "_dom_classes": [],
            "_model_module": "@jupyter-widgets/controls",
            "_model_module_version": "1.5.0",
            "_model_name": "ImageModel",
            "_view_count": null,
            "_view_module": "@jupyter-widgets/controls",
            "_view_module_version": "1.5.0",
            "_view_name": "ImageView",
            "format": "png",
            "height": "",
            "layout": "IPY_MODEL_e0f00e99c439404eac280452f0546658",
            "width": ""
          }
        },
        "e38dc9060d4f44bb8cde0f96cae9a2ab": {
          "model_module": "@jupyter-widgets/base",
          "model_name": "LayoutModel",
          "model_module_version": "1.2.0",
          "state": {
            "_model_module": "@jupyter-widgets/base",
            "_model_module_version": "1.2.0",
            "_model_name": "LayoutModel",
            "_view_count": null,
            "_view_module": "@jupyter-widgets/base",
            "_view_module_version": "1.2.0",
            "_view_name": "LayoutView",
            "align_content": null,
            "align_items": null,
            "align_self": null,
            "border": null,
            "bottom": null,
            "display": null,
            "flex": null,
            "flex_flow": null,
            "grid_area": null,
            "grid_auto_columns": null,
            "grid_auto_flow": null,
            "grid_auto_rows": null,
            "grid_column": null,
            "grid_gap": null,
            "grid_row": null,
            "grid_template_areas": null,
            "grid_template_columns": null,
            "grid_template_rows": null,
            "height": null,
            "justify_content": null,
            "justify_items": null,
            "left": null,
            "margin": null,
            "max_height": null,
            "max_width": null,
            "min_height": null,
            "min_width": null,
            "object_fit": null,
            "object_position": null,
            "order": null,
            "overflow": null,
            "overflow_x": null,
            "overflow_y": null,
            "padding": null,
            "right": null,
            "top": null,
            "visibility": null,
            "width": null
          }
        },
        "c4da4f516f2a40ce90c8592b229eca17": {
          "model_module": "@jupyter-widgets/base",
          "model_name": "LayoutModel",
          "model_module_version": "1.2.0",
          "state": {
            "_model_module": "@jupyter-widgets/base",
            "_model_module_version": "1.2.0",
            "_model_name": "LayoutModel",
            "_view_count": null,
            "_view_module": "@jupyter-widgets/base",
            "_view_module_version": "1.2.0",
            "_view_name": "LayoutView",
            "align_content": null,
            "align_items": null,
            "align_self": null,
            "border": null,
            "bottom": null,
            "display": null,
            "flex": null,
            "flex_flow": null,
            "grid_area": null,
            "grid_auto_columns": null,
            "grid_auto_flow": null,
            "grid_auto_rows": null,
            "grid_column": null,
            "grid_gap": null,
            "grid_row": null,
            "grid_template_areas": null,
            "grid_template_columns": null,
            "grid_template_rows": null,
            "height": null,
            "justify_content": null,
            "justify_items": null,
            "left": null,
            "margin": null,
            "max_height": null,
            "max_width": null,
            "min_height": null,
            "min_width": null,
            "object_fit": null,
            "object_position": null,
            "order": null,
            "overflow": null,
            "overflow_x": null,
            "overflow_y": null,
            "padding": null,
            "right": null,
            "top": null,
            "visibility": null,
            "width": null
          }
        },
        "e0f00e99c439404eac280452f0546658": {
          "model_module": "@jupyter-widgets/base",
          "model_name": "LayoutModel",
          "model_module_version": "1.2.0",
          "state": {
            "_model_module": "@jupyter-widgets/base",
            "_model_module_version": "1.2.0",
            "_model_name": "LayoutModel",
            "_view_count": null,
            "_view_module": "@jupyter-widgets/base",
            "_view_module_version": "1.2.0",
            "_view_name": "LayoutView",
            "align_content": null,
            "align_items": null,
            "align_self": null,
            "border": null,
            "bottom": null,
            "display": null,
            "flex": null,
            "flex_flow": null,
            "grid_area": null,
            "grid_auto_columns": null,
            "grid_auto_flow": null,
            "grid_auto_rows": null,
            "grid_column": null,
            "grid_gap": null,
            "grid_row": null,
            "grid_template_areas": null,
            "grid_template_columns": null,
            "grid_template_rows": null,
            "height": null,
            "justify_content": null,
            "justify_items": null,
            "left": null,
            "margin": null,
            "max_height": null,
            "max_width": null,
            "min_height": null,
            "min_width": null,
            "object_fit": null,
            "object_position": null,
            "order": null,
            "overflow": null,
            "overflow_x": null,
            "overflow_y": null,
            "padding": null,
            "right": null,
            "top": null,
            "visibility": null,
            "width": null
          }
        },
        "f9cb2f967ca5444085d5843392652cf6": {
          "model_module": "@jupyter-widgets/controls",
          "model_name": "HBoxModel",
          "model_module_version": "1.5.0",
          "state": {
            "_dom_classes": [],
            "_model_module": "@jupyter-widgets/controls",
            "_model_module_version": "1.5.0",
            "_model_name": "HBoxModel",
            "_view_count": null,
            "_view_module": "@jupyter-widgets/controls",
            "_view_module_version": "1.5.0",
            "_view_name": "HBoxView",
            "box_style": "",
            "children": [
              "IPY_MODEL_5fec71f389aa45e495c774791c31a3b3",
              "IPY_MODEL_5fef08e24a8a488d9d175208f42d8f79"
            ],
            "layout": "IPY_MODEL_2d5b6781dc634f47ac76d0018a3de7e4"
          }
        },
        "5fec71f389aa45e495c774791c31a3b3": {
          "model_module": "@jupyter-widgets/controls",
          "model_name": "ImageModel",
          "model_module_version": "1.5.0",
          "state": {
            "_dom_classes": [],
            "_model_module": "@jupyter-widgets/controls",
            "_model_module_version": "1.5.0",
            "_model_name": "ImageModel",
            "_view_count": null,
            "_view_module": "@jupyter-widgets/controls",
            "_view_module_version": "1.5.0",
            "_view_name": "ImageView",
            "format": "png",
            "height": "",
            "layout": "IPY_MODEL_9c6b7b1405464329b2fb1c769b773009",
            "width": ""
          }
        },
        "5fef08e24a8a488d9d175208f42d8f79": {
          "model_module": "@jupyter-widgets/controls",
          "model_name": "ImageModel",
          "model_module_version": "1.5.0",
          "state": {
            "_dom_classes": [],
            "_model_module": "@jupyter-widgets/controls",
            "_model_module_version": "1.5.0",
            "_model_name": "ImageModel",
            "_view_count": null,
            "_view_module": "@jupyter-widgets/controls",
            "_view_module_version": "1.5.0",
            "_view_name": "ImageView",
            "format": "png",
            "height": "",
            "layout": "IPY_MODEL_951f179553ea4f568967e0b2adeddebf",
            "width": ""
          }
        },
        "2d5b6781dc634f47ac76d0018a3de7e4": {
          "model_module": "@jupyter-widgets/base",
          "model_name": "LayoutModel",
          "model_module_version": "1.2.0",
          "state": {
            "_model_module": "@jupyter-widgets/base",
            "_model_module_version": "1.2.0",
            "_model_name": "LayoutModel",
            "_view_count": null,
            "_view_module": "@jupyter-widgets/base",
            "_view_module_version": "1.2.0",
            "_view_name": "LayoutView",
            "align_content": null,
            "align_items": null,
            "align_self": null,
            "border": null,
            "bottom": null,
            "display": null,
            "flex": null,
            "flex_flow": null,
            "grid_area": null,
            "grid_auto_columns": null,
            "grid_auto_flow": null,
            "grid_auto_rows": null,
            "grid_column": null,
            "grid_gap": null,
            "grid_row": null,
            "grid_template_areas": null,
            "grid_template_columns": null,
            "grid_template_rows": null,
            "height": null,
            "justify_content": null,
            "justify_items": null,
            "left": null,
            "margin": null,
            "max_height": null,
            "max_width": null,
            "min_height": null,
            "min_width": null,
            "object_fit": null,
            "object_position": null,
            "order": null,
            "overflow": null,
            "overflow_x": null,
            "overflow_y": null,
            "padding": null,
            "right": null,
            "top": null,
            "visibility": null,
            "width": null
          }
        },
        "9c6b7b1405464329b2fb1c769b773009": {
          "model_module": "@jupyter-widgets/base",
          "model_name": "LayoutModel",
          "model_module_version": "1.2.0",
          "state": {
            "_model_module": "@jupyter-widgets/base",
            "_model_module_version": "1.2.0",
            "_model_name": "LayoutModel",
            "_view_count": null,
            "_view_module": "@jupyter-widgets/base",
            "_view_module_version": "1.2.0",
            "_view_name": "LayoutView",
            "align_content": null,
            "align_items": null,
            "align_self": null,
            "border": null,
            "bottom": null,
            "display": null,
            "flex": null,
            "flex_flow": null,
            "grid_area": null,
            "grid_auto_columns": null,
            "grid_auto_flow": null,
            "grid_auto_rows": null,
            "grid_column": null,
            "grid_gap": null,
            "grid_row": null,
            "grid_template_areas": null,
            "grid_template_columns": null,
            "grid_template_rows": null,
            "height": null,
            "justify_content": null,
            "justify_items": null,
            "left": null,
            "margin": null,
            "max_height": null,
            "max_width": null,
            "min_height": null,
            "min_width": null,
            "object_fit": null,
            "object_position": null,
            "order": null,
            "overflow": null,
            "overflow_x": null,
            "overflow_y": null,
            "padding": null,
            "right": null,
            "top": null,
            "visibility": null,
            "width": null
          }
        },
        "951f179553ea4f568967e0b2adeddebf": {
          "model_module": "@jupyter-widgets/base",
          "model_name": "LayoutModel",
          "model_module_version": "1.2.0",
          "state": {
            "_model_module": "@jupyter-widgets/base",
            "_model_module_version": "1.2.0",
            "_model_name": "LayoutModel",
            "_view_count": null,
            "_view_module": "@jupyter-widgets/base",
            "_view_module_version": "1.2.0",
            "_view_name": "LayoutView",
            "align_content": null,
            "align_items": null,
            "align_self": null,
            "border": null,
            "bottom": null,
            "display": null,
            "flex": null,
            "flex_flow": null,
            "grid_area": null,
            "grid_auto_columns": null,
            "grid_auto_flow": null,
            "grid_auto_rows": null,
            "grid_column": null,
            "grid_gap": null,
            "grid_row": null,
            "grid_template_areas": null,
            "grid_template_columns": null,
            "grid_template_rows": null,
            "height": null,
            "justify_content": null,
            "justify_items": null,
            "left": null,
            "margin": null,
            "max_height": null,
            "max_width": null,
            "min_height": null,
            "min_width": null,
            "object_fit": null,
            "object_position": null,
            "order": null,
            "overflow": null,
            "overflow_x": null,
            "overflow_y": null,
            "padding": null,
            "right": null,
            "top": null,
            "visibility": null,
            "width": null
          }
        },
        "a338edc6c1ec4b388a36f7ca0ad827fb": {
          "model_module": "@jupyter-widgets/controls",
          "model_name": "HBoxModel",
          "model_module_version": "1.5.0",
          "state": {
            "_dom_classes": [],
            "_model_module": "@jupyter-widgets/controls",
            "_model_module_version": "1.5.0",
            "_model_name": "HBoxModel",
            "_view_count": null,
            "_view_module": "@jupyter-widgets/controls",
            "_view_module_version": "1.5.0",
            "_view_name": "HBoxView",
            "box_style": "",
            "children": [
              "IPY_MODEL_6f70da07d4764c5dbe309363839b2cde",
              "IPY_MODEL_344a1ab1252a41c79475bb9cfd45523b"
            ],
            "layout": "IPY_MODEL_ad6c394d171746a09a37e05d6abbbfdc"
          }
        },
        "6f70da07d4764c5dbe309363839b2cde": {
          "model_module": "@jupyter-widgets/controls",
          "model_name": "ImageModel",
          "model_module_version": "1.5.0",
          "state": {
            "_dom_classes": [],
            "_model_module": "@jupyter-widgets/controls",
            "_model_module_version": "1.5.0",
            "_model_name": "ImageModel",
            "_view_count": null,
            "_view_module": "@jupyter-widgets/controls",
            "_view_module_version": "1.5.0",
            "_view_name": "ImageView",
            "format": "png",
            "height": "",
            "layout": "IPY_MODEL_3d1fdccdfcf543d4a030ea00e06a34c6",
            "width": ""
          }
        },
        "344a1ab1252a41c79475bb9cfd45523b": {
          "model_module": "@jupyter-widgets/controls",
          "model_name": "ImageModel",
          "model_module_version": "1.5.0",
          "state": {
            "_dom_classes": [],
            "_model_module": "@jupyter-widgets/controls",
            "_model_module_version": "1.5.0",
            "_model_name": "ImageModel",
            "_view_count": null,
            "_view_module": "@jupyter-widgets/controls",
            "_view_module_version": "1.5.0",
            "_view_name": "ImageView",
            "format": "png",
            "height": "",
            "layout": "IPY_MODEL_de4ead8ef20d47758ddcfab29a7af73a",
            "width": ""
          }
        },
        "ad6c394d171746a09a37e05d6abbbfdc": {
          "model_module": "@jupyter-widgets/base",
          "model_name": "LayoutModel",
          "model_module_version": "1.2.0",
          "state": {
            "_model_module": "@jupyter-widgets/base",
            "_model_module_version": "1.2.0",
            "_model_name": "LayoutModel",
            "_view_count": null,
            "_view_module": "@jupyter-widgets/base",
            "_view_module_version": "1.2.0",
            "_view_name": "LayoutView",
            "align_content": null,
            "align_items": null,
            "align_self": null,
            "border": null,
            "bottom": null,
            "display": null,
            "flex": null,
            "flex_flow": null,
            "grid_area": null,
            "grid_auto_columns": null,
            "grid_auto_flow": null,
            "grid_auto_rows": null,
            "grid_column": null,
            "grid_gap": null,
            "grid_row": null,
            "grid_template_areas": null,
            "grid_template_columns": null,
            "grid_template_rows": null,
            "height": null,
            "justify_content": null,
            "justify_items": null,
            "left": null,
            "margin": null,
            "max_height": null,
            "max_width": null,
            "min_height": null,
            "min_width": null,
            "object_fit": null,
            "object_position": null,
            "order": null,
            "overflow": null,
            "overflow_x": null,
            "overflow_y": null,
            "padding": null,
            "right": null,
            "top": null,
            "visibility": null,
            "width": null
          }
        },
        "3d1fdccdfcf543d4a030ea00e06a34c6": {
          "model_module": "@jupyter-widgets/base",
          "model_name": "LayoutModel",
          "model_module_version": "1.2.0",
          "state": {
            "_model_module": "@jupyter-widgets/base",
            "_model_module_version": "1.2.0",
            "_model_name": "LayoutModel",
            "_view_count": null,
            "_view_module": "@jupyter-widgets/base",
            "_view_module_version": "1.2.0",
            "_view_name": "LayoutView",
            "align_content": null,
            "align_items": null,
            "align_self": null,
            "border": null,
            "bottom": null,
            "display": null,
            "flex": null,
            "flex_flow": null,
            "grid_area": null,
            "grid_auto_columns": null,
            "grid_auto_flow": null,
            "grid_auto_rows": null,
            "grid_column": null,
            "grid_gap": null,
            "grid_row": null,
            "grid_template_areas": null,
            "grid_template_columns": null,
            "grid_template_rows": null,
            "height": null,
            "justify_content": null,
            "justify_items": null,
            "left": null,
            "margin": null,
            "max_height": null,
            "max_width": null,
            "min_height": null,
            "min_width": null,
            "object_fit": null,
            "object_position": null,
            "order": null,
            "overflow": null,
            "overflow_x": null,
            "overflow_y": null,
            "padding": null,
            "right": null,
            "top": null,
            "visibility": null,
            "width": null
          }
        },
        "de4ead8ef20d47758ddcfab29a7af73a": {
          "model_module": "@jupyter-widgets/base",
          "model_name": "LayoutModel",
          "model_module_version": "1.2.0",
          "state": {
            "_model_module": "@jupyter-widgets/base",
            "_model_module_version": "1.2.0",
            "_model_name": "LayoutModel",
            "_view_count": null,
            "_view_module": "@jupyter-widgets/base",
            "_view_module_version": "1.2.0",
            "_view_name": "LayoutView",
            "align_content": null,
            "align_items": null,
            "align_self": null,
            "border": null,
            "bottom": null,
            "display": null,
            "flex": null,
            "flex_flow": null,
            "grid_area": null,
            "grid_auto_columns": null,
            "grid_auto_flow": null,
            "grid_auto_rows": null,
            "grid_column": null,
            "grid_gap": null,
            "grid_row": null,
            "grid_template_areas": null,
            "grid_template_columns": null,
            "grid_template_rows": null,
            "height": null,
            "justify_content": null,
            "justify_items": null,
            "left": null,
            "margin": null,
            "max_height": null,
            "max_width": null,
            "min_height": null,
            "min_width": null,
            "object_fit": null,
            "object_position": null,
            "order": null,
            "overflow": null,
            "overflow_x": null,
            "overflow_y": null,
            "padding": null,
            "right": null,
            "top": null,
            "visibility": null,
            "width": null
          }
        },
        "52a61c5f5e924974a7ee7839b486f2f8": {
          "model_module": "@jupyter-widgets/controls",
          "model_name": "HBoxModel",
          "model_module_version": "1.5.0",
          "state": {
            "_dom_classes": [],
            "_model_module": "@jupyter-widgets/controls",
            "_model_module_version": "1.5.0",
            "_model_name": "HBoxModel",
            "_view_count": null,
            "_view_module": "@jupyter-widgets/controls",
            "_view_module_version": "1.5.0",
            "_view_name": "HBoxView",
            "box_style": "",
            "children": [
              "IPY_MODEL_f4c9d3d498044693a3a47f8d2f30a050",
              "IPY_MODEL_781ff7b4d8d846d29b0342f1f83d4c9f"
            ],
            "layout": "IPY_MODEL_b0b0511347a240a7ad0da693fe907390"
          }
        },
        "f4c9d3d498044693a3a47f8d2f30a050": {
          "model_module": "@jupyter-widgets/controls",
          "model_name": "ImageModel",
          "model_module_version": "1.5.0",
          "state": {
            "_dom_classes": [],
            "_model_module": "@jupyter-widgets/controls",
            "_model_module_version": "1.5.0",
            "_model_name": "ImageModel",
            "_view_count": null,
            "_view_module": "@jupyter-widgets/controls",
            "_view_module_version": "1.5.0",
            "_view_name": "ImageView",
            "format": "png",
            "height": "",
            "layout": "IPY_MODEL_d6857f7a503d41ad9af235a270580b4d",
            "width": ""
          }
        },
        "781ff7b4d8d846d29b0342f1f83d4c9f": {
          "model_module": "@jupyter-widgets/controls",
          "model_name": "ImageModel",
          "model_module_version": "1.5.0",
          "state": {
            "_dom_classes": [],
            "_model_module": "@jupyter-widgets/controls",
            "_model_module_version": "1.5.0",
            "_model_name": "ImageModel",
            "_view_count": null,
            "_view_module": "@jupyter-widgets/controls",
            "_view_module_version": "1.5.0",
            "_view_name": "ImageView",
            "format": "png",
            "height": "",
            "layout": "IPY_MODEL_ce75616331424736a3151d488dcd554c",
            "width": ""
          }
        },
        "b0b0511347a240a7ad0da693fe907390": {
          "model_module": "@jupyter-widgets/base",
          "model_name": "LayoutModel",
          "model_module_version": "1.2.0",
          "state": {
            "_model_module": "@jupyter-widgets/base",
            "_model_module_version": "1.2.0",
            "_model_name": "LayoutModel",
            "_view_count": null,
            "_view_module": "@jupyter-widgets/base",
            "_view_module_version": "1.2.0",
            "_view_name": "LayoutView",
            "align_content": null,
            "align_items": null,
            "align_self": null,
            "border": null,
            "bottom": null,
            "display": null,
            "flex": null,
            "flex_flow": null,
            "grid_area": null,
            "grid_auto_columns": null,
            "grid_auto_flow": null,
            "grid_auto_rows": null,
            "grid_column": null,
            "grid_gap": null,
            "grid_row": null,
            "grid_template_areas": null,
            "grid_template_columns": null,
            "grid_template_rows": null,
            "height": null,
            "justify_content": null,
            "justify_items": null,
            "left": null,
            "margin": null,
            "max_height": null,
            "max_width": null,
            "min_height": null,
            "min_width": null,
            "object_fit": null,
            "object_position": null,
            "order": null,
            "overflow": null,
            "overflow_x": null,
            "overflow_y": null,
            "padding": null,
            "right": null,
            "top": null,
            "visibility": null,
            "width": null
          }
        },
        "d6857f7a503d41ad9af235a270580b4d": {
          "model_module": "@jupyter-widgets/base",
          "model_name": "LayoutModel",
          "model_module_version": "1.2.0",
          "state": {
            "_model_module": "@jupyter-widgets/base",
            "_model_module_version": "1.2.0",
            "_model_name": "LayoutModel",
            "_view_count": null,
            "_view_module": "@jupyter-widgets/base",
            "_view_module_version": "1.2.0",
            "_view_name": "LayoutView",
            "align_content": null,
            "align_items": null,
            "align_self": null,
            "border": null,
            "bottom": null,
            "display": null,
            "flex": null,
            "flex_flow": null,
            "grid_area": null,
            "grid_auto_columns": null,
            "grid_auto_flow": null,
            "grid_auto_rows": null,
            "grid_column": null,
            "grid_gap": null,
            "grid_row": null,
            "grid_template_areas": null,
            "grid_template_columns": null,
            "grid_template_rows": null,
            "height": null,
            "justify_content": null,
            "justify_items": null,
            "left": null,
            "margin": null,
            "max_height": null,
            "max_width": null,
            "min_height": null,
            "min_width": null,
            "object_fit": null,
            "object_position": null,
            "order": null,
            "overflow": null,
            "overflow_x": null,
            "overflow_y": null,
            "padding": null,
            "right": null,
            "top": null,
            "visibility": null,
            "width": null
          }
        },
        "ce75616331424736a3151d488dcd554c": {
          "model_module": "@jupyter-widgets/base",
          "model_name": "LayoutModel",
          "model_module_version": "1.2.0",
          "state": {
            "_model_module": "@jupyter-widgets/base",
            "_model_module_version": "1.2.0",
            "_model_name": "LayoutModel",
            "_view_count": null,
            "_view_module": "@jupyter-widgets/base",
            "_view_module_version": "1.2.0",
            "_view_name": "LayoutView",
            "align_content": null,
            "align_items": null,
            "align_self": null,
            "border": null,
            "bottom": null,
            "display": null,
            "flex": null,
            "flex_flow": null,
            "grid_area": null,
            "grid_auto_columns": null,
            "grid_auto_flow": null,
            "grid_auto_rows": null,
            "grid_column": null,
            "grid_gap": null,
            "grid_row": null,
            "grid_template_areas": null,
            "grid_template_columns": null,
            "grid_template_rows": null,
            "height": null,
            "justify_content": null,
            "justify_items": null,
            "left": null,
            "margin": null,
            "max_height": null,
            "max_width": null,
            "min_height": null,
            "min_width": null,
            "object_fit": null,
            "object_position": null,
            "order": null,
            "overflow": null,
            "overflow_x": null,
            "overflow_y": null,
            "padding": null,
            "right": null,
            "top": null,
            "visibility": null,
            "width": null
          }
        }
      }
    }
  },
  "cells": [
    {
      "cell_type": "markdown",
      "source": [
        "# Next frame prediction\n",
        "\n",
        "The project consists of predicting the next frame in a short movie sequence.\n",
        "\n",
        "For this project, we shall use the Moving MNIST dataset, composed of 10,000 video sequences, each consisting of 20 frames. In each video sequence, two digits move independently around the frame, which has a spatial resolution of 64×64 pixels. The digits frequently intersect with each other and bounce off the edges of the frame.\n",
        "\n",
        "While each sequence has a lenght of 20, your are supposed to use **only 3 consecutive frames as input**, and **predict the next one**.\n",
        "\n",
        "The metric used to evalaute the quality of the predicted frame is Mean Squared Error."
      ],
      "metadata": {
        "id": "v85Qq_p0my49"
      }
    },
    {
      "cell_type": "code",
      "execution_count": null,
      "metadata": {
        "id": "Wlg8ZSz3FHFh"
      },
      "outputs": [],
      "source": [
        "import tensorflow as tf\n",
        "import tensorflow_datasets as tfds\n",
        "from tensorflow import keras\n",
        "from keras import layers\n",
        "\n",
        "import math\n",
        "import matplotlib.pyplot as plt\n",
        "import numpy as np\n",
        "\n",
        "import os\n",
        "\n",
        "import io\n",
        "import imageio\n",
        "from IPython.display import Image, display\n",
        "from ipywidgets import widgets, Layout, HBox\n",
        "\n"
      ]
    },
    {
      "cell_type": "code",
      "source": [
        "ds = tfds.as_numpy(tfds.load(\n",
        "    'moving_mnist',\n",
        "    split='test',\n",
        "    batch_size=-1\n",
        "))\n",
        "sequences = ds['image_sequence']"
      ],
      "metadata": {
        "colab": {
          "base_uri": "https://localhost:8080/"
        },
        "id": "0nyzhFRDVuFw",
        "outputId": "b93d774e-0e8c-4594-fb7f-9b32532c335a"
      },
      "execution_count": null,
      "outputs": [
        {
          "output_type": "stream",
          "name": "stderr",
          "text": [
            "WARNING:absl:You use TensorFlow DType <dtype: 'uint8'> in tfds.features This will soon be deprecated in favor of NumPy DTypes. In the meantime it was converted to uint8.\n",
            "WARNING:absl:`FeatureConnector.dtype` is deprecated. Please change your code to use NumPy with the field `FeatureConnector.np_dtype` or use TensorFlow with the field `FeatureConnector.tf_dtype`.\n"
          ]
        }
      ]
    },
    {
      "cell_type": "markdown",
      "source": [
        "The dataset is composed of 10000 sequences of 20 frames each. Each (grayscale) frame has dimnesion 64x64"
      ],
      "metadata": {
        "id": "JXFR88VToaSz"
      }
    },
    {
      "cell_type": "code",
      "source": [
        "sequences = np.squeeze(np.swapaxes(sequences, 1, 4),axis=1)/255.\n",
        "print(sequences.shape)\n",
        "print(np.min(sequences),np.max(sequences))"
      ],
      "metadata": {
        "colab": {
          "base_uri": "https://localhost:8080/"
        },
        "id": "ZkS8Z9bXVxVG",
        "outputId": "491ece3a-2458-4384-c4b0-03d260672e46"
      },
      "execution_count": null,
      "outputs": [
        {
          "output_type": "stream",
          "name": "stdout",
          "text": [
            "(10000, 64, 64, 20)\n",
            "0.0 1.0\n"
          ]
        }
      ]
    },
    {
      "cell_type": "markdown",
      "source": [
        "Let us split the dataset in training, validation and testing.\n",
        "You are supposed to evaluate the performance of your model using MSE over the full test set."
      ],
      "metadata": {
        "id": "xEJxqJ0SotTn"
      }
    },
    {
      "cell_type": "code",
      "source": [
        "trainset = sequences[:8000]\n",
        "valset = sequences[8000:9000]\n",
        "testset = sequences[8000:9000]"
      ],
      "metadata": {
        "id": "CZSAjVd9bYhl"
      },
      "execution_count": null,
      "outputs": []
    },
    {
      "cell_type": "markdown",
      "source": [
        "Here is a simple generator, creating the input sequences of 3 frames, and the expected output, namely the next frame."
      ],
      "metadata": {
        "id": "Ro84EIPjpCDW"
      }
    },
    {
      "cell_type": "code",
      "source": [
        "def image_generator(dataset,batchsize=16,seqlen=4):\n",
        "    while True:\n",
        "      batch_x = np.zeros((batchsize,64,64,seqlen-1))\n",
        "      batch_y = np.zeros((batchsize,64,64,1))\n",
        "      ran = np.random.randint(dataset.shape[0],size=batchsize)\n",
        "      minibatch = dataset[ran]\n",
        "      #these sequences have length 20; we reduce them to seqlen\n",
        "      for i in range(batchsize):\n",
        "          random_start = np.random.randint(0,20-seqlen)\n",
        "          random_end = random_start+seqlen-1\n",
        "          batch_x[i] = minibatch[i,:,:,random_start:random_end]\n",
        "          batch_y[i] = minibatch[i,:,:,random_end:random_end+1]\n",
        "          yield(batch_x,batch_y)"
      ],
      "metadata": {
        "id": "ZzzBAxNwKOGt"
      },
      "execution_count": null,
      "outputs": []
    },
    {
      "cell_type": "code",
      "source": [
        "prova_gen = image_generator(testset,batchsize=1,seqlen=4)"
      ],
      "metadata": {
        "id": "1i9wGAY0fl1C"
      },
      "execution_count": null,
      "outputs": []
    },
    {
      "cell_type": "code",
      "source": [
        "sample_x, sample_y = next(prova_gen)"
      ],
      "metadata": {
        "id": "Y7n5_ZMvf1Xe"
      },
      "execution_count": null,
      "outputs": []
    },
    {
      "cell_type": "code",
      "source": [
        "print(type(sample_x))"
      ],
      "metadata": {
        "colab": {
          "base_uri": "https://localhost:8080/"
        },
        "id": "LAtcBioVkd89",
        "outputId": "3cd0ddee-be92-4676-92e2-58aee1b2caeb"
      },
      "execution_count": null,
      "outputs": [
        {
          "output_type": "stream",
          "name": "stdout",
          "text": [
            "<class 'numpy.ndarray'>\n"
          ]
        }
      ]
    },
    {
      "cell_type": "code",
      "source": [
        "def show_list(images): #takes in input a list of images and plot them\n",
        "    size = len(images)\n",
        "    plt.figure(figsize=(10, 10 * size))\n",
        "    for i in range(size):\n",
        "        plt.subplot(1, size, i + 1)\n",
        "        plt.imshow(images[i],cmap='gray',)\n",
        "    plt.axis(\"off\")\n",
        "    plt.tight_layout()\n",
        "    plt.show()\n",
        "    plt.close()"
      ],
      "metadata": {
        "id": "V-84FZcphrsf"
      },
      "execution_count": null,
      "outputs": []
    },
    {
      "cell_type": "code",
      "source": [
        "all = [sample_x[0,:,:,i] for i in range(3)]+[sample_y[0,:,:,0]]\n",
        "show_list(all)"
      ],
      "metadata": {
        "colab": {
          "base_uri": "https://localhost:8080/",
          "height": 268
        },
        "id": "I3MgP84rjLdO",
        "outputId": "56b9964b-020c-4027-95ad-1c6585710be5"
      },
      "execution_count": null,
      "outputs": [
        {
          "output_type": "display_data",
          "data": {
            "text/plain": [
              "<Figure size 1000x4000 with 4 Axes>"
            ],
            "image/png": "[encoded data removed]"
          },
          "metadata": {}
        }
      ]
    },
    {
      "cell_type": "code",
      "source": [
        "train_gen = image_generator(trainset)\n",
        "val_gen = image_generator(valset)\n",
        "test_gen = image_generator(valset)"
      ],
      "metadata": {
        "id": "ZedwxykwK_8D"
      },
      "execution_count": null,
      "outputs": []
    },
    {
      "cell_type": "code",
      "source": [
        "sample_x, sample_y = next(train_gen)"
      ],
      "metadata": {
        "id": "PXIoWhFvL6uK"
      },
      "execution_count": null,
      "outputs": []
    },
    {
      "cell_type": "markdown",
      "source": [
        "# My implementation of the solution starts **FROM HERE**"
      ],
      "metadata": {
        "id": "lOyx0kHCuM8u"
      }
    },
    {
      "cell_type": "markdown",
      "source": [
        "## **Create the model**\n",
        "\n"
      ],
      "metadata": {
        "id": "i_Rps324uXxb"
      }
    },
    {
      "cell_type": "markdown",
      "source": [
        "For this task, I built a model that has  three consecutive **ConvLSTM** layers, all  with a BatchNormalization layer at the end, and then a **Conv2D** layer that outputs the next frame predicted image.\n",
        "\n",
        "The reason why I used **ConvLSTM** layers is that it is suitable for tasks in which there are **sequential images** as input data, like in this case.\n",
        "\n",
        "A **ConvLSTM** layer is a **Recurrent layer**, just like the LSTM, but internal matrix multiplications are exchanged with **convolution operations**.\n",
        "\n",
        "The input of a ConvLSTM must be a set of images over time as a 5D tensor with shape (samples, time_steps, rows, cols, channels).\n",
        "In our case we have that:\n",
        "- **samples = batch size**\n",
        "- **time_steps = 3**, because we need 3 consecutive frames\n",
        "- **rows = cols = 64**, because 64x64 is the size of an image in the dataset\n",
        "- **channels = 1**, because images are gray images (no rgb channels)\n",
        "\n",
        "The output of the network is of the shape (batch_size, 64, 64, 1): it outputs the next predicted frame for each element in the batch_size."
      ],
      "metadata": {
        "id": "jNV94owg1jCw"
      }
    },
    {
      "cell_type": "markdown",
      "source": [
        "Note that the current shape of the **data** generated from *train_gen* (the same goes for *val_gen* and *test_gen*) is (batch_size, 64, 64, 3)."
      ],
      "metadata": {
        "id": "evGPaZ061n3s"
      }
    },
    {
      "cell_type": "code",
      "source": [
        "print(sample_x.shape)"
      ],
      "metadata": {
        "colab": {
          "base_uri": "https://localhost:8080/"
        },
        "id": "fIAqnPWh1nMB",
        "outputId": "57a9ff65-515f-4c4f-8208-8a895635f603"
      },
      "execution_count": null,
      "outputs": [
        {
          "output_type": "stream",
          "name": "stdout",
          "text": [
            "(16, 64, 64, 3)\n"
          ]
        }
      ]
    },
    {
      "cell_type": "markdown",
      "source": [
        "As we said we need data with shape (samples, time_steps, rows, cols, channels); in order to achieve this I implemented a preprocessing method on **x data**."
      ],
      "metadata": {
        "id": "CvxSEGek1hsI"
      }
    },
    {
      "cell_type": "code",
      "source": [
        "def preprocess_data(x):\n",
        "    # add another dimension for the gray channel\n",
        "    x = np.expand_dims(x, axis= 4)\n",
        "    # change from (batch_size, 64, 64, 3, 1) to (batch_size, 64, 3, 64, 1)\n",
        "    x = np.swapaxes(x, 3, 2)\n",
        "    # change from (batch_size, 64, 3, 64, 1) to (batch_size, 3, 64, 64, 1)\n",
        "    x = np.swapaxes(x, 2, 1)\n",
        "    return x"
      ],
      "metadata": {
        "id": "tyxov69J2-Dr"
      },
      "execution_count": null,
      "outputs": []
    },
    {
      "cell_type": "code",
      "source": [
        "sample_x = preprocess_data(sample_x)\n",
        "# now sample_x is of the right shape\n",
        "print(sample_x.shape)"
      ],
      "metadata": {
        "colab": {
          "base_uri": "https://localhost:8080/"
        },
        "id": "BadGdJoW3ee0",
        "outputId": "43a84532-1d23-4067-ac98-f29ef2a0fc53"
      },
      "execution_count": null,
      "outputs": [
        {
          "output_type": "stream",
          "name": "stdout",
          "text": [
            "(16, 3, 64, 64, 1)\n"
          ]
        }
      ]
    },
    {
      "cell_type": "markdown",
      "source": [
        "Below there is the implementation of the model via  the **functional API**.\n",
        "\n",
        "It's important to remember that the ConvLSTM layer output is a combination of a Convolution and a LSTM output. If **return_sequences = True**, then it returns a sequence as a 5D tensor with shape (samples, time_steps, rows, cols, filters). On the other hand, if **return_sequences = False**, then it returns only the last value of the sequence as a 4D tensor with shape (samples, rows, cols, filters)."
      ],
      "metadata": {
        "id": "IHiFLg-q3hZA"
      }
    },
    {
      "cell_type": "code",
      "source": [
        "input_shape = sample_x.shape[1:]\n",
        "# Input layer has shape (None, 3, 64, 64, 1)\n",
        "inp = layers.Input(shape=input_shape)\n",
        "\n",
        "# As follows there are 3 `ConvLSTM2D` layers with batch normalization,\n",
        "# followed by a `Conv2D` layer\n",
        "\n",
        "# return_sequences is true so it will output (None, 3, 64, 64, 64)\n",
        "x = layers.ConvLSTM2D(\n",
        "    filters=64,\n",
        "    kernel_size=(5, 5),\n",
        "    padding=\"same\",\n",
        "    return_sequences=True,\n",
        "    activation=\"relu\",\n",
        ")(inp)\n",
        "x = layers.BatchNormalization()(x)\n",
        "# return_sequences is true so it will output (None, 3, 64, 64, 64) as before\n",
        "x = layers.ConvLSTM2D(\n",
        "    filters=64,\n",
        "    kernel_size=(3, 3),\n",
        "    padding=\"same\",\n",
        "    return_sequences=True,\n",
        "    activation=\"relu\",\n",
        ")(x)\n",
        "x = layers.BatchNormalization()(x)\n",
        "# return_sequences is true so it will output (None, 64, 64, 64)\n",
        "x = layers.ConvLSTM2D(\n",
        "    filters=64,\n",
        "    kernel_size=(1, 1),\n",
        "    padding=\"same\",\n",
        "    return_sequences=False,\n",
        "    activation=\"relu\",\n",
        ")(x)\n",
        "x = layers.BatchNormalization()(x)\n",
        "# it outputs (None, 64, 64, 1)\n",
        "x = layers.Conv2D(\n",
        "    filters=1, kernel_size=(3, 3), activation=\"sigmoid\", padding=\"same\"\n",
        ")(x)\n",
        "\n",
        "# Next, I build the complete model and compile it\n",
        "model = keras.models.Model(inp, x)"
      ],
      "metadata": {
        "id": "JKwzPkQ0x2Wp"
      },
      "execution_count": null,
      "outputs": []
    },
    {
      "cell_type": "code",
      "source": [
        "model.summary()"
      ],
      "metadata": {
        "id": "fKLcewI_5foJ",
        "colab": {
          "base_uri": "https://localhost:8080/"
        },
        "outputId": "a113a3a7-7531-418e-fcbb-0ddcaae78ae8"
      },
      "execution_count": null,
      "outputs": [
        {
          "output_type": "stream",
          "name": "stdout",
          "text": [
            "Model: \"model\"\n",
            "_________________________________________________________________\n",
            " Layer (type)                Output Shape              Param #   \n",
            "=================================================================\n",
            " input_1 (InputLayer)        [(None, 3, 64, 64, 1)]    0         \n",
            "                                                                 \n",
            " conv_lstm2d (ConvLSTM2D)    (None, 3, 64, 64, 64)     416256    \n",
            "                                                                 \n",
            " batch_normalization (BatchN  (None, 3, 64, 64, 64)    256       \n",
            " ormalization)                                                   \n",
            "                                                                 \n",
            " conv_lstm2d_1 (ConvLSTM2D)  (None, 3, 64, 64, 64)     295168    \n",
            "                                                                 \n",
            " batch_normalization_1 (Batc  (None, 3, 64, 64, 64)    256       \n",
            " hNormalization)                                                 \n",
            "                                                                 \n",
            " conv_lstm2d_2 (ConvLSTM2D)  (None, 64, 64, 64)        33024     \n",
            "                                                                 \n",
            " batch_normalization_2 (Batc  (None, 64, 64, 64)       256       \n",
            " hNormalization)                                                 \n",
            "                                                                 \n",
            " conv2d (Conv2D)             (None, 64, 64, 1)         577       \n",
            "                                                                 \n",
            "=================================================================\n",
            "Total params: 745,793\n",
            "Trainable params: 745,409\n",
            "Non-trainable params: 384\n",
            "_________________________________________________________________\n"
          ]
        }
      ]
    },
    {
      "cell_type": "markdown",
      "source": [
        "# Train the model"
      ],
      "metadata": {
        "id": "QY7vIMK6l1cw"
      }
    },
    {
      "cell_type": "markdown",
      "source": [
        "I decided to build the training loop and the evaluation loop from scratch, along with computation of metrics and generation of history.\n",
        "\n",
        "- **train_step**, given the **x batch of data** and the **y ground truth batch**, computes the next **predicted image** and computes the loss value by calling the loss function. Then it computes the gradients with respect to the model paratemets and performs a gradient descent step following the optimizer inner implementation. It also updates the train metrics of the model.\n",
        "\n",
        "- **val_step**, given the **x batch of data** and the **y ground truth batch**, computes the next **predicted image** and computes the loss value by calling the loss function as before. There is no train here, Both the metric and the loss_tracker are updated.\n",
        "\n",
        "- **test_step**, same as val_step but with the difference that there is no loss_tracker and that the predicted frames are returned.\n",
        "\n",
        "I inserted the decorator @tf.function because it compiles a function into a callable TensorFlow graph and this speeds up the computation.\n"
      ],
      "metadata": {
        "id": "EHY9Dh0w5lPz"
      }
    },
    {
      "cell_type": "code",
      "source": [
        "@tf.function\n",
        "def train_step(x, y, model, loss_fn, optimizer, train_loss_tracker, train_metric):\n",
        "  with tf.GradientTape() as tape:\n",
        "      # feedforward step\n",
        "      predicted_frames = model(x, training=True)\n",
        "      # calculate the loss\n",
        "      loss_value = loss_fn(y, predicted_frames)\n",
        "  # calculate gradients with respect to all the trainable model weights\n",
        "  grads = tape.gradient(loss_value, model.trainable_weights)\n",
        "  # applies a gradient descent step following the internal update of the optimizer\n",
        "  optimizer.apply_gradients(zip(grads, model.trainable_weights))\n",
        "  # updates the train loss tracker and  metric\n",
        "  train_loss_tracker.update_state(loss_value)\n",
        "  train_metric.update_state(y, predicted_frames)\n",
        "  return loss_value\n",
        "\n",
        "@tf.function\n",
        "def val_step(x, y, model, loss_fn, val_loss_tracker, val_metric):\n",
        "  # feedforward step\n",
        "  predicted_frames = model(x, training=False)\n",
        "  # calculate the loss\n",
        "  loss_value = loss_fn(y, predicted_frames)\n",
        "  # updates the validation loss tracker and metric\n",
        "  val_loss_tracker.update_state(loss_value)\n",
        "  val_metric.update_state(y, predicted_frames)\n",
        "\n",
        "@tf.function\n",
        "def test_step(x, y, model, metric):\n",
        "    # feedforward step\n",
        "    predicted_frames = model(x, training=False)\n",
        "    # updates the test metric\n",
        "    metric.update_state(y, predicted_frames)\n",
        "    return predicted_frames"
      ],
      "metadata": {
        "id": "rTKX6SH65ki-"
      },
      "execution_count": null,
      "outputs": []
    },
    {
      "cell_type": "markdown",
      "source": [
        "Then I built from scratch all the training loop in which I also implemented an **early stopping strategy**."
      ],
      "metadata": {
        "id": "RnydgE-fA9Q2"
      }
    },
    {
      "cell_type": "code",
      "source": [
        "def training_loop(model, loss_fn, optimizer, train_generator, val_dataset, loss_tracker,  patience = 5, epochs = 30, steps_per_epoch = 20):\n",
        "    # initialize wait and best loss for early stopping strategy\n",
        "    wait = 0\n",
        "    best_loss = float('inf')\n",
        "    best_weights = model.get_weights()\n",
        "    # the metric used is mse\n",
        "    metric = tf.keras.metrics.MeanSquaredError()\n",
        "    print(\"Start of training \")\n",
        "    dict_to_return = {'loss': [], 'val_loss' : [], 'accuracy' :[], 'val_accuracy' : []}\n",
        "    for epoch in range(epochs):\n",
        "\n",
        "        for step in range(steps_per_epoch):\n",
        "            # generates x batch and y batch through the train generator\n",
        "            x_batch, y_batch = next(train_generator)\n",
        "            # preprocesses x batch to have shape equal to input shape of the network\n",
        "            x_batch = preprocess_data(x_batch)\n",
        "            # performs a training step\n",
        "            loss_value = train_step(x_batch, y_batch, model, loss_fn, optimizer, loss_tracker, metric)\n",
        "            # every 10 steps it prints the number of seen training data\n",
        "        # retrieves the final values of train loss value and train metric value at the end of the epoch\n",
        "        loss_value_train = loss_tracker.result().numpy()\n",
        "        metric_result_train = metric.result().numpy()\n",
        "        # resets loss tracker and metric for the next epoch\n",
        "        loss_tracker.reset_states()\n",
        "        metric.reset_states()\n",
        "\n",
        "        # gets x batch and y batch from validation dataset\n",
        "        for x_batch_val, y_batch_val in val_dataset:\n",
        "            # performs a a validation step\n",
        "            val_step(x_batch_val, y_batch_val, model, loss_fn, loss_tracker, metric)\n",
        "        # retrieves the  values of validation loss value and validation metric value\n",
        "        loss_value_val = loss_tracker.result().numpy()\n",
        "        metric_result_val = metric.result().numpy()\n",
        "        # resets validation loss tracker and validation metric for the next epoch\n",
        "        loss_tracker.reset_states()\n",
        "        metric.reset_states()\n",
        "        # adds to the history the values retrieved from train metric value, train loss value\n",
        "        # validation metric value and validation loss value\n",
        "        dict_to_return['accuracy'].append(metric_result_train)\n",
        "        dict_to_return['loss'].append(loss_value_train)\n",
        "        dict_to_return['val_accuracy'].append(metric_result_val)\n",
        "        dict_to_return['val_loss'].append(loss_value_val)\n",
        "        print(\"EPOCH {0} --- LOSS value : {1}, MSE value : {2}, val LOSS value : {3}, val MSE value : {4} \".format(epoch, loss_value_train, metric_result_train, loss_value_val, metric_result_val))\n",
        "        # The early stopping strategy: stop the training if `val_loss` does not\n",
        "        # decrease over a certain number of epochs\n",
        "        wait += 1\n",
        "        if loss_value_val < best_loss:\n",
        "          best_loss = loss_value_val\n",
        "          best_weights = model.get_weights()\n",
        "          wait = 0\n",
        "        if wait >= patience:\n",
        "          model.set_weights(best_weights)\n",
        "          print(\"Learning interrupted because of Early Stopping at epoch {}\".format(epoch))\n",
        "          break\n",
        "    return dict_to_return"
      ],
      "metadata": {
        "id": "mHoSdzeOA8rZ"
      },
      "execution_count": null,
      "outputs": []
    },
    {
      "cell_type": "markdown",
      "source": [
        "I defined a method in order to generate a dataset from  **number of batches** and a **generator**. This method is used for creating validation and test datasets."
      ],
      "metadata": {
        "id": "l1zA9XL3gLSD"
      }
    },
    {
      "cell_type": "code",
      "source": [
        "def create_dataset(n_batches, gen_generator):\n",
        "    x, y= [], []\n",
        "    for i in range(n_batches):\n",
        "        # generates the batch from the generator\n",
        "        x_batch, y_batch = next(gen_generator)\n",
        "        # preprocesses the x batch data\n",
        "        x_batch = preprocess_data(x_batch)\n",
        "        # appends the batch to the list of batches for both data and targets\n",
        "        x.append(x_batch)\n",
        "        y.append(y_batch)\n",
        "    x = np.array(x)\n",
        "    y = np.array(y)\n",
        "    dataset = tf.data.Dataset.from_tensor_slices((x, y))\n",
        "    return dataset"
      ],
      "metadata": {
        "id": "KPCVBFy3MF9Q"
      },
      "execution_count": null,
      "outputs": []
    },
    {
      "cell_type": "markdown",
      "source": [
        "- The loss function used is the **mean squared logarithmic error**\n",
        "- the metric is the** mean squared error**\n",
        "- the optimizer used is Adam optimizer with learning rate = 0.001\n"
      ],
      "metadata": {
        "id": "a6kbpA1dv83_"
      }
    },
    {
      "cell_type": "code",
      "source": [
        "loss_fn = tf.keras.losses.mean_squared_logarithmic_error\n",
        "loss_tracker = tf.keras.metrics.Mean()\n",
        "steps_per_epoch = 225\n",
        "val_num_batches = 30\n",
        "test_num_batches = 30\n",
        "batch_size = 32\n",
        "lr = 0.001\n",
        "patience = 8\n",
        "epochs = 30\n",
        "optimizer = keras.optimizers.Adam(lr)\n",
        "train_gen = image_generator(trainset,batch_size)\n",
        "val_gen = image_generator(valset,batch_size)\n",
        "val_dataset = create_dataset(val_num_batches, val_gen)\n",
        "test_dataset = create_dataset(test_num_batches, val_gen)"
      ],
      "metadata": {
        "id": "DZWaDpmaLFLw"
      },
      "execution_count": null,
      "outputs": []
    },
    {
      "cell_type": "code",
      "source": [
        "history = training_loop(model, loss_fn, optimizer, train_gen, val_dataset, loss_tracker, patience, epochs, steps_per_epoch)"
      ],
      "metadata": {
        "id": "vLkeQWFbNT_4",
        "colab": {
          "base_uri": "https://localhost:8080/"
        },
        "outputId": "27c33f38-171c-438f-c1f0-b730a334e56b"
      },
      "execution_count": null,
      "outputs": [
        {
          "output_type": "stream",
          "name": "stdout",
          "text": [
            "Start of training \n",
            "EPOCH 0 --- LOSS value : 0.017197491601109505, MSE value : 0.03140503540635109, val LOSS value : 0.44339826703071594, val MSE value : 0.919967532157898 \n",
            "EPOCH 1 --- LOSS value : 0.005189492832869291, MSE value : 0.010452616959810257, val LOSS value : 0.43012911081314087, val MSE value : 0.8927706480026245 \n",
            "EPOCH 2 --- LOSS value : 0.004527610260993242, MSE value : 0.009264013729989529, val LOSS value : 0.07925654202699661, val MSE value : 0.11788488924503326 \n",
            "EPOCH 3 --- LOSS value : 0.004262151662260294, MSE value : 0.008728820830583572, val LOSS value : 0.03512871265411377, val MSE value : 0.05158273130655289 \n",
            "EPOCH 4 --- LOSS value : 0.00418320344761014, MSE value : 0.008577132597565651, val LOSS value : 0.008925377391278744, val MSE value : 0.01802223175764084 \n",
            "EPOCH 5 --- LOSS value : 0.004140503704547882, MSE value : 0.008507070131599903, val LOSS value : 0.009133296087384224, val MSE value : 0.019507944583892822 \n",
            "EPOCH 6 --- LOSS value : 0.0041246176697313786, MSE value : 0.008478191681206226, val LOSS value : 0.010504215024411678, val MSE value : 0.021934742107987404 \n",
            "EPOCH 7 --- LOSS value : 0.0041390652768313885, MSE value : 0.008521942421793938, val LOSS value : 0.008520842529833317, val MSE value : 0.017484817653894424 \n",
            "EPOCH 8 --- LOSS value : 0.003994132857769728, MSE value : 0.008209598250687122, val LOSS value : 0.010011105798184872, val MSE value : 0.02010629139840603 \n",
            "EPOCH 9 --- LOSS value : 0.0038783615455031395, MSE value : 0.007985753938555717, val LOSS value : 0.010089400224387646, val MSE value : 0.019384047016501427 \n",
            "EPOCH 10 --- LOSS value : 0.00388356763869524, MSE value : 0.007977532222867012, val LOSS value : 0.008458598516881466, val MSE value : 0.01742512732744217 \n",
            "EPOCH 11 --- LOSS value : 0.003716482315212488, MSE value : 0.007642021402716637, val LOSS value : 0.00949822086840868, val MSE value : 0.018879229202866554 \n",
            "EPOCH 12 --- LOSS value : 0.0036483255680650473, MSE value : 0.007521656807512045, val LOSS value : 0.008384939283132553, val MSE value : 0.01758876070380211 \n",
            "EPOCH 13 --- LOSS value : 0.003768729278817773, MSE value : 0.007741086184978485, val LOSS value : 0.008358926512300968, val MSE value : 0.017430327832698822 \n",
            "EPOCH 14 --- LOSS value : 0.003811856033280492, MSE value : 0.007835011929273605, val LOSS value : 0.009147631004452705, val MSE value : 0.017259515821933746 \n",
            "EPOCH 15 --- LOSS value : 0.0036726524122059345, MSE value : 0.007570104207843542, val LOSS value : 0.008263288997113705, val MSE value : 0.017172686755657196 \n",
            "EPOCH 16 --- LOSS value : 0.0033472387585788965, MSE value : 0.0069083343259990215, val LOSS value : 0.009554089047014713, val MSE value : 0.0200351495295763 \n",
            "EPOCH 17 --- LOSS value : 0.003499163780361414, MSE value : 0.007192723453044891, val LOSS value : 0.0095805823802948, val MSE value : 0.019746189936995506 \n",
            "EPOCH 18 --- LOSS value : 0.0036859046667814255, MSE value : 0.0075890300795435905, val LOSS value : 0.008126108907163143, val MSE value : 0.01693919114768505 \n",
            "EPOCH 19 --- LOSS value : 0.0035196749959141016, MSE value : 0.00723448907956481, val LOSS value : 0.008766429498791695, val MSE value : 0.017124958336353302 \n",
            "EPOCH 20 --- LOSS value : 0.0037572807632386684, MSE value : 0.007728541269898415, val LOSS value : 0.013091834262013435, val MSE value : 0.022733187302947044 \n",
            "EPOCH 21 --- LOSS value : 0.003398444037884474, MSE value : 0.006997823249548674, val LOSS value : 0.008330152370035648, val MSE value : 0.016998374834656715 \n",
            "EPOCH 22 --- LOSS value : 0.0033207032829523087, MSE value : 0.006842360366135836, val LOSS value : 0.016583142802119255, val MSE value : 0.027540219947695732 \n",
            "EPOCH 23 --- LOSS value : 0.003430750919505954, MSE value : 0.007078129332512617, val LOSS value : 0.0088483402505517, val MSE value : 0.017462290823459625 \n",
            "EPOCH 24 --- LOSS value : 0.0035660197027027607, MSE value : 0.007350572384893894, val LOSS value : 0.008281066082417965, val MSE value : 0.01685917377471924 \n",
            "EPOCH 25 --- LOSS value : 0.003312093438580632, MSE value : 0.006820458918809891, val LOSS value : 0.008031990379095078, val MSE value : 0.0165711659938097 \n",
            "EPOCH 26 --- LOSS value : 0.0035133177880197763, MSE value : 0.0072161187417805195, val LOSS value : 0.008247490972280502, val MSE value : 0.017038606107234955 \n",
            "EPOCH 27 --- LOSS value : 0.0034507375676184893, MSE value : 0.00709907803684473, val LOSS value : 0.008283735252916813, val MSE value : 0.01704403944313526 \n",
            "EPOCH 28 --- LOSS value : 0.0034735361114144325, MSE value : 0.0071534328162670135, val LOSS value : 0.008520487695932388, val MSE value : 0.017510922625660896 \n",
            "EPOCH 29 --- LOSS value : 0.003464641747996211, MSE value : 0.007136444561183453, val LOSS value : 0.008126853965222836, val MSE value : 0.01713523454964161 \n"
          ]
        }
      ]
    },
    {
      "cell_type": "markdown",
      "source": [
        "# Test the model"
      ],
      "metadata": {
        "id": "S32IED-smKgz"
      }
    },
    {
      "cell_type": "code",
      "source": [
        "test_metric = tf.keras.metrics.MeanSquaredError()\n",
        "for x_batch_test, y_batch_test in test_dataset:\n",
        "      # performs a test step\n",
        "      test_step(x_batch_test, y_batch_test, model, test_metric)\n",
        "# gets the mse result on all the test set\n",
        "test_mse = test_metric.result()\n",
        "test_metric.reset_states()\n",
        "print(\"Mean Squared Error (mse) value computed on all the test dataset: {0}\".format(test_mse.numpy()))"
      ],
      "metadata": {
        "id": "f0jyNlAXN3c2",
        "colab": {
          "base_uri": "https://localhost:8080/"
        },
        "outputId": "5391ffd3-32a3-4a75-fb31-5fa13249dba6"
      },
      "execution_count": null,
      "outputs": [
        {
          "output_type": "stream",
          "name": "stdout",
          "text": [
            "Mean Squared Error (mse) value computed on all the test dataset: 0.015838822349905968\n"
          ]
        }
      ]
    },
    {
      "cell_type": "markdown",
      "source": [
        "I created plots from history:\n",
        "- The first compares **train and validation mse**  (which is the metric used) over epochs.\n",
        "- The second one compares **train and validation losses** over epochs."
      ],
      "metadata": {
        "id": "ElTtBGDORIdf"
      }
    },
    {
      "cell_type": "code",
      "source": [
        "# summarize history for accuracy\n",
        "plt.plot(history['accuracy'])\n",
        "plt.plot(history['val_accuracy'])\n",
        "plt.title('MSE VALUE OVER EPOCH')\n",
        "plt.ylabel('mse value')\n",
        "plt.xlabel('epoch')\n",
        "plt.legend(['train', 'test'], loc='upper left')\n",
        "plt.show()\n",
        "# summarize history for loss\n",
        "plt.plot(history['loss'])\n",
        "plt.plot(history['val_loss'])\n",
        "plt.title('MODEL LOSS OVER EPOCH')\n",
        "plt.ylabel('loss')\n",
        "plt.xlabel('epoch')\n",
        "plt.legend(['train', 'test'], loc='upper left')\n",
        "plt.show()"
      ],
      "metadata": {
        "id": "5KVMVw7FRLAd",
        "colab": {
          "base_uri": "https://localhost:8080/",
          "height": 927
        },
        "outputId": "a32a9940-3d4d-4014-bc15-16d8f8c416c3"
      },
      "execution_count": null,
      "outputs": [
        {
          "output_type": "display_data",
          "data": {
            "text/plain": [
              "<Figure size 640x480 with 1 Axes>"
            ],
            "image/png": "[encoded data removed]"
          },
          "metadata": {}
        },
        {
          "output_type": "display_data",
          "data": {
            "text/plain": [
              "<Figure size 640x480 with 1 Axes>"
            ],
            "image/png": "[encoded data removed]"
          },
          "metadata": {}
        }
      ]
    },
    {
      "cell_type": "markdown",
      "source": [
        "# Observe results of the model"
      ],
      "metadata": {
        "id": "RXXOvzSpmQ8h"
      }
    },
    {
      "cell_type": "markdown",
      "source": [
        "Here I compare original images, taken from the test dataset, with images predicted by the network."
      ],
      "metadata": {
        "id": "s1jy55L0QvSR"
      }
    },
    {
      "cell_type": "code",
      "source": [
        "x_test_b, y_test_b = next(test_dataset.as_numpy_iterator())\n",
        "# performs forward step\n",
        "y_pred = model(x_test_b, training=False)\n",
        "# takes the first 10 frames from both original images and predicted images\n",
        "y_pred = y_pred[:10]\n",
        "y_test_b = y_test_b[:10]\n",
        "\n",
        "# Construct a figure for the original and new frames\n",
        "fig, axes = plt.subplots(2, 10, figsize=(20, 4))\n",
        "# Plot the original frames\n",
        "for idx, ax in enumerate(axes[0]):\n",
        "    ax.imshow(np.squeeze(y_test_b[idx]), cmap=\"gray\")\n",
        "    ax.set_title(f\"Frame {idx + 11}\")\n",
        "    ax.axis(\"off\")\n",
        "\n",
        "# Plot the new frames\n",
        "for idx, ax in enumerate(axes[1]):\n",
        "    ax.imshow(np.squeeze(y_pred[idx]), cmap=\"gray\")\n",
        "    ax.set_title(f\"Frame {idx + 11}\")\n",
        "    ax.axis(\"off\")\n",
        "\n",
        "# Display the figure.\n",
        "plt.show()"
      ],
      "metadata": {
        "id": "_Mlki9UmQ4qp",
        "colab": {
          "base_uri": "https://localhost:8080/",
          "height": 342
        },
        "outputId": "6b295899-ab04-45b2-9489-abff2178d34a"
      },
      "execution_count": null,
      "outputs": [
        {
          "output_type": "display_data",
          "data": {
            "text/plain": [
              "<Figure size 2000x400 with 20 Axes>"
            ],
            "image/png": "[encoded data removed]"
          },
          "metadata": {}
        }
      ]
    },
    {
      "cell_type": "markdown",
      "source": [
        "In this last section I compare **videos** of the original image frames with videos of the predicted frames."
      ],
      "metadata": {
        "id": "L2APLxdKktyF"
      }
    },
    {
      "cell_type": "code",
      "source": [
        "seqlen = 4\n",
        "num_comparisons = 5\n",
        "xs = np.zeros((num_comparisons, 10, 64,64, seqlen-1))\n",
        "ys = np.zeros((num_comparisons, 10, 64,64,1))\n",
        "# Select 5 random examples from the dataset.\n",
        "rands = np.random.choice(range(len(testset)), size=num_comparisons)\n",
        "test_instance = testset[rands]\n",
        "for i in range(num_comparisons):\n",
        "  for j in range(10):\n",
        "      xs[i][j] = test_instance[i, :, :, j:j+seqlen-1]\n",
        "      ys[i][j] = test_instance[i, :, :, j+seqlen-1:j+seqlen]\n",
        "predicted_videos = []\n",
        "xs_preprocessed_xs = np.ones((num_comparisons, 10, 3, 64, 64, 1))\n",
        "for i in range(num_comparisons):\n",
        "  xs_preprocessed = preprocess_data(xs[i])\n",
        "  xs_preprocessed_xs[i] = xs_preprocessed\n",
        "\n",
        "\n",
        "predicted_videos = []\n",
        "ys_prediction = np.zeros((num_comparisons, 10, 64,64,1))\n",
        "\n",
        "import cv2\n",
        "\n",
        "# Iterate over the examples and predict the frames.\n",
        "for i in range(num_comparisons):\n",
        "  ys_prediction[i] = model.predict(xs_preprocessed_xs[i])\n",
        "\n",
        "# Create and save GIFs for each of the ground truth/prediction images.\n",
        "for i in range(num_comparisons):\n",
        "  for frame_set in [ys, ys_prediction]:\n",
        "      current_frames = np.squeeze(frame_set)\n",
        "      current_frames = (current_frames * 255).astype(np.uint8)\n",
        "      # Construct a GIF from the frames.\n",
        "      with io.BytesIO() as gif:\n",
        "            imageio.mimsave(gif, current_frames[i], \"GIF\", fps=5)\n",
        "            predicted_videos.append(gif.getvalue())\n",
        "\n",
        "\n",
        "\n",
        "# Display the videos.\n",
        "print(len(predicted_videos))\n",
        "print(\" Truth\\tPrediction\")\n",
        "for i in range(0, len(predicted_videos), 2):\n",
        "    # Construct and display an `HBox` with the ground truth and prediction.\n",
        "    box = HBox(\n",
        "        [\n",
        "            widgets.Image(value=predicted_videos[i]),\n",
        "            widgets.Image(value=predicted_videos[i + 1]),\n",
        "        ]\n",
        "    )\n",
        "    display(box)"
      ],
      "metadata": {
        "id": "KeRFbJsaRCoE",
        "colab": {
          "base_uri": "https://localhost:8080/",
          "height": 479,
          "referenced_widgets": [
            "006871ad09d14a559361ae2727ee4dea",
            "a2cfd9421e5b498aabd9da22d4368d59",
            "cbd746434f76437d89981c6c0b081154",
            "84783d9a95b24cc98a3ba26235c227f3",
            "29b4f2d98a064774a2d1287a834f2818",
            "e50c7feedf4d4c698edbdaa95c519cda",
            "168be7304c00464d95c76543bd141886",
            "509a082d9014427998eef0a507082304",
            "133b78967e2549de830eb0baf7cc25c4",
            "e38dc9060d4f44bb8cde0f96cae9a2ab",
            "c4da4f516f2a40ce90c8592b229eca17",
            "e0f00e99c439404eac280452f0546658",
            "f9cb2f967ca5444085d5843392652cf6",
            "5fec71f389aa45e495c774791c31a3b3",
            "5fef08e24a8a488d9d175208f42d8f79",
            "2d5b6781dc634f47ac76d0018a3de7e4",
            "9c6b7b1405464329b2fb1c769b773009",
            "951f179553ea4f568967e0b2adeddebf",
            "a338edc6c1ec4b388a36f7ca0ad827fb",
            "6f70da07d4764c5dbe309363839b2cde",
            "344a1ab1252a41c79475bb9cfd45523b",
            "ad6c394d171746a09a37e05d6abbbfdc",
            "3d1fdccdfcf543d4a030ea00e06a34c6",
            "de4ead8ef20d47758ddcfab29a7af73a",
            "52a61c5f5e924974a7ee7839b486f2f8",
            "f4c9d3d498044693a3a47f8d2f30a050",
            "781ff7b4d8d846d29b0342f1f83d4c9f",
            "b0b0511347a240a7ad0da693fe907390",
            "d6857f7a503d41ad9af235a270580b4d",
            "ce75616331424736a3151d488dcd554c"
          ]
        },
        "outputId": "317ad777-e415-4dab-d77c-4e81c87213c0"
      },
      "execution_count": null,
      "outputs": [
        {
          "output_type": "stream",
          "name": "stdout",
          "text": [
            "1/1 [==============================] - 0s 26ms/step\n",
            "1/1 [==============================] - 0s 28ms/step\n",
            "1/1 [==============================] - 0s 31ms/step\n",
            "1/1 [==============================] - 0s 28ms/step\n",
            "1/1 [==============================] - 0s 34ms/step\n",
            "10\n",
            " Truth\tPrediction\n"
          ]
        },
        {
          "output_type": "display_data",
          "data": {
            "text/plain": [
              "HBox(children=(Image(value=b'GIF89a@\\x00@\\x00\\x87\\x00\\x00\\xff\\xff\\xff\\xfe\\xfe\\xfe\\xfd\\xfd\\xfd\\xfc\\xfc\\xfc\\xfb\\…"
            ],
            "application/vnd.jupyter.widget-view+json": {
              "version_major": 2,
              "version_minor": 0,
              "model_id": "006871ad09d14a559361ae2727ee4dea"
            }
          },
          "metadata": {}
        },
        {
          "output_type": "display_data",
          "data": {
            "text/plain": [
              "HBox(children=(Image(value=b'GIF89a@\\x00@\\x00\\x87\\x00\\x00\\xff\\xff\\xff\\xfe\\xfe\\xfe\\xfd\\xfd\\xfd\\xfb\\xfb\\xfb\\xfa\\…"
            ],
            "application/vnd.jupyter.widget-view+json": {
              "version_major": 2,
              "version_minor": 0,
              "model_id": "168be7304c00464d95c76543bd141886"
            }
          },
          "metadata": {}
        },
        {
          "output_type": "display_data",
          "data": {
            "text/plain": [
              "HBox(children=(Image(value=b'GIF89a@\\x00@\\x00\\x87\\x00\\x00\\xff\\xff\\xff\\xfe\\xfe\\xfe\\xfd\\xfd\\xfd\\xfb\\xfb\\xfb\\xfa\\…"
            ],
            "application/vnd.jupyter.widget-view+json": {
              "version_major": 2,
              "version_minor": 0,
              "model_id": "f9cb2f967ca5444085d5843392652cf6"
            }
          },
          "metadata": {}
        },
        {
          "output_type": "display_data",
          "data": {
            "text/plain": [
              "HBox(children=(Image(value=b'GIF89a@\\x00@\\x00\\x87\\x00\\x00\\xff\\xff\\xff\\xfe\\xfe\\xfe\\xfd\\xfd\\xfd\\xfc\\xfc\\xfc\\xf9\\…"
            ],
            "application/vnd.jupyter.widget-view+json": {
              "version_major": 2,
              "version_minor": 0,
              "model_id": "a338edc6c1ec4b388a36f7ca0ad827fb"
            }
          },
          "metadata": {}
        },
        {
          "output_type": "display_data",
          "data": {
            "text/plain": [
              "HBox(children=(Image(value=b'GIF89a@\\x00@\\x00\\x87\\x00\\x00\\xff\\xff\\xff\\xfe\\xfe\\xfe\\xfd\\xfd\\xfd\\xfc\\xfc\\xfc\\xf9\\…"
            ],
            "application/vnd.jupyter.widget-view+json": {
              "version_major": 2,
              "version_minor": 0,
              "model_id": "52a61c5f5e924974a7ee7839b486f2f8"
            }
          },
          "metadata": {}
        }
      ]
    }
  ]
}